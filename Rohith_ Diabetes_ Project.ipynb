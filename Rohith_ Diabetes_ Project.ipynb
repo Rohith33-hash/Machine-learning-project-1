{
 "cells": [
  {
   "cell_type": "code",
   "execution_count": 1,
   "metadata": {},
   "outputs": [],
   "source": [
    "########## lets import numpy and pandas libraries for data manipulation and to find patterns inside data#####\n",
    "\n",
    "import pandas as pd\n",
    "import numpy as np\n",
    "import warnings\n",
    "warnings.filterwarnings('ignore') # this is used to ignore warnings in output of jupiter console"
   ]
  },
  {
   "cell_type": "code",
   "execution_count": 3,
   "metadata": {},
   "outputs": [
    {
     "data": {
      "text/plain": [
       "Index(['Pregnancies', 'Glucose', 'BloodPressure', 'SkinThickness', 'Insulin',\n",
       "       'BMI', 'DiabetesPedigreeFunction', 'Age', 'Outcome'],\n",
       "      dtype='object')"
      ]
     },
     "execution_count": 3,
     "metadata": {},
     "output_type": "execute_result"
    }
   ],
   "source": [
    "#loading the dataset from other path to jupiter and reading the data#\n",
    "\n",
    "data1 = pd.read_csv(r'C:\\Users\\LENOVO\\Downloads\\New folder\\Diabetes.csv')\n",
    "# storing all the column names in one object and can restore when required#\n",
    "columns_original = data1.columns\n",
    "columns_original"
   ]
  },
  {
   "cell_type": "code",
   "execution_count": 4,
   "metadata": {},
   "outputs": [
    {
     "data": {
      "text/html": [
       "<div>\n",
       "<style scoped>\n",
       "    .dataframe tbody tr th:only-of-type {\n",
       "        vertical-align: middle;\n",
       "    }\n",
       "\n",
       "    .dataframe tbody tr th {\n",
       "        vertical-align: top;\n",
       "    }\n",
       "\n",
       "    .dataframe thead th {\n",
       "        text-align: right;\n",
       "    }\n",
       "</style>\n",
       "<table border=\"1\" class=\"dataframe\">\n",
       "  <thead>\n",
       "    <tr style=\"text-align: right;\">\n",
       "      <th></th>\n",
       "      <th>Pregnancies</th>\n",
       "      <th>Glucose</th>\n",
       "      <th>BloodPressure</th>\n",
       "      <th>SkinThickness</th>\n",
       "      <th>Insulin</th>\n",
       "      <th>BMI</th>\n",
       "      <th>DiabetesPedigreeFunction</th>\n",
       "      <th>Age</th>\n",
       "      <th>Outcome</th>\n",
       "    </tr>\n",
       "  </thead>\n",
       "  <tbody>\n",
       "    <tr>\n",
       "      <th>0</th>\n",
       "      <td>6</td>\n",
       "      <td>148</td>\n",
       "      <td>72.0</td>\n",
       "      <td>35.0</td>\n",
       "      <td>0.0</td>\n",
       "      <td>33.6</td>\n",
       "      <td>0.627</td>\n",
       "      <td>50</td>\n",
       "      <td>1</td>\n",
       "    </tr>\n",
       "    <tr>\n",
       "      <th>1</th>\n",
       "      <td>1</td>\n",
       "      <td>85</td>\n",
       "      <td>66.0</td>\n",
       "      <td>29.0</td>\n",
       "      <td>0.0</td>\n",
       "      <td>26.6</td>\n",
       "      <td>0.351</td>\n",
       "      <td>31</td>\n",
       "      <td>0</td>\n",
       "    </tr>\n",
       "    <tr>\n",
       "      <th>2</th>\n",
       "      <td>8</td>\n",
       "      <td>183</td>\n",
       "      <td>64.0</td>\n",
       "      <td>0.0</td>\n",
       "      <td>0.0</td>\n",
       "      <td>23.3</td>\n",
       "      <td>0.672</td>\n",
       "      <td>32</td>\n",
       "      <td>1</td>\n",
       "    </tr>\n",
       "    <tr>\n",
       "      <th>3</th>\n",
       "      <td>1</td>\n",
       "      <td>89</td>\n",
       "      <td>66.0</td>\n",
       "      <td>23.0</td>\n",
       "      <td>94.0</td>\n",
       "      <td>28.1</td>\n",
       "      <td>0.167</td>\n",
       "      <td>21</td>\n",
       "      <td>0</td>\n",
       "    </tr>\n",
       "    <tr>\n",
       "      <th>4</th>\n",
       "      <td>0</td>\n",
       "      <td>137</td>\n",
       "      <td>40.0</td>\n",
       "      <td>35.0</td>\n",
       "      <td>168.0</td>\n",
       "      <td>43.1</td>\n",
       "      <td>2.288</td>\n",
       "      <td>33</td>\n",
       "      <td>1</td>\n",
       "    </tr>\n",
       "  </tbody>\n",
       "</table>\n",
       "</div>"
      ],
      "text/plain": [
       "   Pregnancies  Glucose  BloodPressure  SkinThickness  Insulin   BMI  \\\n",
       "0            6      148           72.0           35.0      0.0  33.6   \n",
       "1            1       85           66.0           29.0      0.0  26.6   \n",
       "2            8      183           64.0            0.0      0.0  23.3   \n",
       "3            1       89           66.0           23.0     94.0  28.1   \n",
       "4            0      137           40.0           35.0    168.0  43.1   \n",
       "\n",
       "   DiabetesPedigreeFunction  Age  Outcome  \n",
       "0                     0.627   50        1  \n",
       "1                     0.351   31        0  \n",
       "2                     0.672   32        1  \n",
       "3                     0.167   21        0  \n",
       "4                     2.288   33        1  "
      ]
     },
     "execution_count": 4,
     "metadata": {},
     "output_type": "execute_result"
    }
   ],
   "source": [
    "#### As we had already loaded dataset using pandas ,let us check whether we can retrive the data#######\n",
    "data1.head()"
   ]
  },
  {
   "cell_type": "code",
   "execution_count": 5,
   "metadata": {},
   "outputs": [
    {
     "data": {
      "text/plain": [
       "(768, 9)"
      ]
     },
     "execution_count": 5,
     "metadata": {},
     "output_type": "execute_result"
    }
   ],
   "source": [
    "#### checking Number of rows and columns from the given data set#####\n",
    "data1.shape"
   ]
  },
  {
   "cell_type": "code",
   "execution_count": 6,
   "metadata": {},
   "outputs": [
    {
     "data": {
      "text/html": [
       "<div>\n",
       "<style scoped>\n",
       "    .dataframe tbody tr th:only-of-type {\n",
       "        vertical-align: middle;\n",
       "    }\n",
       "\n",
       "    .dataframe tbody tr th {\n",
       "        vertical-align: top;\n",
       "    }\n",
       "\n",
       "    .dataframe thead th {\n",
       "        text-align: right;\n",
       "    }\n",
       "</style>\n",
       "<table border=\"1\" class=\"dataframe\">\n",
       "  <thead>\n",
       "    <tr style=\"text-align: right;\">\n",
       "      <th></th>\n",
       "      <th>Pregnancies</th>\n",
       "      <th>Glucose</th>\n",
       "      <th>BloodPressure</th>\n",
       "      <th>SkinThickness</th>\n",
       "      <th>Insulin</th>\n",
       "      <th>BMI</th>\n",
       "      <th>DiabetesPedigreeFunction</th>\n",
       "      <th>Age</th>\n",
       "      <th>Outcome</th>\n",
       "    </tr>\n",
       "  </thead>\n",
       "  <tbody>\n",
       "    <tr>\n",
       "      <th>count</th>\n",
       "      <td>768.000000</td>\n",
       "      <td>768.000000</td>\n",
       "      <td>761.000000</td>\n",
       "      <td>761.000000</td>\n",
       "      <td>746.000000</td>\n",
       "      <td>754.00000</td>\n",
       "      <td>762.000000</td>\n",
       "      <td>768.000000</td>\n",
       "      <td>768.000000</td>\n",
       "    </tr>\n",
       "    <tr>\n",
       "      <th>mean</th>\n",
       "      <td>3.845052</td>\n",
       "      <td>120.894531</td>\n",
       "      <td>69.339028</td>\n",
       "      <td>20.725361</td>\n",
       "      <td>82.152815</td>\n",
       "      <td>32.13435</td>\n",
       "      <td>0.472196</td>\n",
       "      <td>33.240885</td>\n",
       "      <td>0.348958</td>\n",
       "    </tr>\n",
       "    <tr>\n",
       "      <th>std</th>\n",
       "      <td>3.369578</td>\n",
       "      <td>31.972618</td>\n",
       "      <td>18.926330</td>\n",
       "      <td>15.902731</td>\n",
       "      <td>116.102469</td>\n",
       "      <td>7.56570</td>\n",
       "      <td>0.332328</td>\n",
       "      <td>11.760232</td>\n",
       "      <td>0.476951</td>\n",
       "    </tr>\n",
       "    <tr>\n",
       "      <th>min</th>\n",
       "      <td>0.000000</td>\n",
       "      <td>0.000000</td>\n",
       "      <td>0.000000</td>\n",
       "      <td>0.000000</td>\n",
       "      <td>0.000000</td>\n",
       "      <td>0.00000</td>\n",
       "      <td>0.078000</td>\n",
       "      <td>21.000000</td>\n",
       "      <td>0.000000</td>\n",
       "    </tr>\n",
       "    <tr>\n",
       "      <th>25%</th>\n",
       "      <td>1.000000</td>\n",
       "      <td>99.000000</td>\n",
       "      <td>64.000000</td>\n",
       "      <td>0.000000</td>\n",
       "      <td>0.000000</td>\n",
       "      <td>27.40000</td>\n",
       "      <td>0.243250</td>\n",
       "      <td>24.000000</td>\n",
       "      <td>0.000000</td>\n",
       "    </tr>\n",
       "    <tr>\n",
       "      <th>50%</th>\n",
       "      <td>3.000000</td>\n",
       "      <td>117.000000</td>\n",
       "      <td>72.000000</td>\n",
       "      <td>23.000000</td>\n",
       "      <td>42.500000</td>\n",
       "      <td>32.05000</td>\n",
       "      <td>0.370500</td>\n",
       "      <td>29.000000</td>\n",
       "      <td>0.000000</td>\n",
       "    </tr>\n",
       "    <tr>\n",
       "      <th>75%</th>\n",
       "      <td>6.000000</td>\n",
       "      <td>140.250000</td>\n",
       "      <td>80.000000</td>\n",
       "      <td>32.000000</td>\n",
       "      <td>130.000000</td>\n",
       "      <td>36.60000</td>\n",
       "      <td>0.628500</td>\n",
       "      <td>41.000000</td>\n",
       "      <td>1.000000</td>\n",
       "    </tr>\n",
       "    <tr>\n",
       "      <th>max</th>\n",
       "      <td>17.000000</td>\n",
       "      <td>199.000000</td>\n",
       "      <td>122.000000</td>\n",
       "      <td>99.000000</td>\n",
       "      <td>846.000000</td>\n",
       "      <td>67.10000</td>\n",
       "      <td>2.420000</td>\n",
       "      <td>81.000000</td>\n",
       "      <td>1.000000</td>\n",
       "    </tr>\n",
       "  </tbody>\n",
       "</table>\n",
       "</div>"
      ],
      "text/plain": [
       "       Pregnancies     Glucose  BloodPressure  SkinThickness     Insulin  \\\n",
       "count   768.000000  768.000000     761.000000     761.000000  746.000000   \n",
       "mean      3.845052  120.894531      69.339028      20.725361   82.152815   \n",
       "std       3.369578   31.972618      18.926330      15.902731  116.102469   \n",
       "min       0.000000    0.000000       0.000000       0.000000    0.000000   \n",
       "25%       1.000000   99.000000      64.000000       0.000000    0.000000   \n",
       "50%       3.000000  117.000000      72.000000      23.000000   42.500000   \n",
       "75%       6.000000  140.250000      80.000000      32.000000  130.000000   \n",
       "max      17.000000  199.000000     122.000000      99.000000  846.000000   \n",
       "\n",
       "             BMI  DiabetesPedigreeFunction         Age     Outcome  \n",
       "count  754.00000                762.000000  768.000000  768.000000  \n",
       "mean    32.13435                  0.472196   33.240885    0.348958  \n",
       "std      7.56570                  0.332328   11.760232    0.476951  \n",
       "min      0.00000                  0.078000   21.000000    0.000000  \n",
       "25%     27.40000                  0.243250   24.000000    0.000000  \n",
       "50%     32.05000                  0.370500   29.000000    0.000000  \n",
       "75%     36.60000                  0.628500   41.000000    1.000000  \n",
       "max     67.10000                  2.420000   81.000000    1.000000  "
      ]
     },
     "execution_count": 6,
     "metadata": {},
     "output_type": "execute_result"
    }
   ],
   "source": [
    "####### let us check the statistics of the our dataset where it shows count,max,min, and also can find if there are any missing values#######\n",
    "\n",
    "data1.describe()\n",
    "\n",
    "  \n"
   ]
  },
  {
   "cell_type": "code",
   "execution_count": 7,
   "metadata": {
    "scrolled": true
   },
   "outputs": [
    {
     "data": {
      "text/plain": [
       "Pregnancies                  0\n",
       "Glucose                      0\n",
       "BloodPressure                7\n",
       "SkinThickness                7\n",
       "Insulin                     22\n",
       "BMI                         14\n",
       "DiabetesPedigreeFunction     6\n",
       "Age                          0\n",
       "Outcome                      0\n",
       "dtype: int64"
      ]
     },
     "execution_count": 7,
     "metadata": {},
     "output_type": "execute_result"
    }
   ],
   "source": [
    "###########################From the above statistics of data , as per count for some of features have missing data that is Bloodpressure,skinthickness,InsulinBMI,DiabetesPedigreeFunction and inaddition to that we can also observe that some of the features have 0 data #########\n",
    "\n",
    "#### Checking null values from each column######\n",
    "data1.isnull().sum()"
   ]
  },
  {
   "cell_type": "code",
   "execution_count": 8,
   "metadata": {},
   "outputs": [],
   "source": [
    "#---Since all the features here are numeric data type we can replace null values with mean of each column using SimpleImputer###\n",
    "\n",
    " # Using SimpleImputer to replace missing values with mean of each column####\n",
    "from sklearn.impute import SimpleImputer\n",
    "imputer1 = SimpleImputer(missing_values=np.nan,strategy='mean')#replacing null values with mean of each column#\n",
    "imputer2 = SimpleImputer(missing_values=0,strategy='mean') #replacing all 0's with mean of each column except 'Pregnancies' and 'outcome'\n",
    "imputer1 = imputer1.fit(data1)#Feeding data using imputer\n",
    "data1 = imputer1.transform(data1) # resultant data after transforming all null values with mean of each column\n",
    "##### Converting ndarray in to dataframe\n",
    "data1 = pd.DataFrame(data1)\n",
    "###Assigning previous columns stored in to new data frame##\n",
    "data1.columns = columns_original"
   ]
  },
  {
   "cell_type": "code",
   "execution_count": 9,
   "metadata": {},
   "outputs": [
    {
     "data": {
      "text/html": [
       "<div>\n",
       "<style scoped>\n",
       "    .dataframe tbody tr th:only-of-type {\n",
       "        vertical-align: middle;\n",
       "    }\n",
       "\n",
       "    .dataframe tbody tr th {\n",
       "        vertical-align: top;\n",
       "    }\n",
       "\n",
       "    .dataframe thead th {\n",
       "        text-align: right;\n",
       "    }\n",
       "</style>\n",
       "<table border=\"1\" class=\"dataframe\">\n",
       "  <thead>\n",
       "    <tr style=\"text-align: right;\">\n",
       "      <th></th>\n",
       "      <th>Pregnancies</th>\n",
       "      <th>Glucose</th>\n",
       "      <th>BloodPressure</th>\n",
       "      <th>SkinThickness</th>\n",
       "      <th>Insulin</th>\n",
       "      <th>BMI</th>\n",
       "      <th>DiabetesPedigreeFunction</th>\n",
       "      <th>Age</th>\n",
       "      <th>Outcome</th>\n",
       "    </tr>\n",
       "  </thead>\n",
       "  <tbody>\n",
       "    <tr>\n",
       "      <th>count</th>\n",
       "      <td>768.000000</td>\n",
       "      <td>768.000000</td>\n",
       "      <td>768.000000</td>\n",
       "      <td>768.000000</td>\n",
       "      <td>768.000000</td>\n",
       "      <td>768.000000</td>\n",
       "      <td>768.000000</td>\n",
       "      <td>768.000000</td>\n",
       "      <td>768.000000</td>\n",
       "    </tr>\n",
       "    <tr>\n",
       "      <th>mean</th>\n",
       "      <td>3.845052</td>\n",
       "      <td>120.894531</td>\n",
       "      <td>69.339028</td>\n",
       "      <td>20.725361</td>\n",
       "      <td>82.152815</td>\n",
       "      <td>32.134350</td>\n",
       "      <td>0.472196</td>\n",
       "      <td>33.240885</td>\n",
       "      <td>0.348958</td>\n",
       "    </tr>\n",
       "    <tr>\n",
       "      <th>std</th>\n",
       "      <td>3.369578</td>\n",
       "      <td>31.972618</td>\n",
       "      <td>18.839767</td>\n",
       "      <td>15.829996</td>\n",
       "      <td>114.425261</td>\n",
       "      <td>7.496334</td>\n",
       "      <td>0.331026</td>\n",
       "      <td>11.760232</td>\n",
       "      <td>0.476951</td>\n",
       "    </tr>\n",
       "    <tr>\n",
       "      <th>min</th>\n",
       "      <td>0.000000</td>\n",
       "      <td>0.000000</td>\n",
       "      <td>0.000000</td>\n",
       "      <td>0.000000</td>\n",
       "      <td>0.000000</td>\n",
       "      <td>0.000000</td>\n",
       "      <td>0.078000</td>\n",
       "      <td>21.000000</td>\n",
       "      <td>0.000000</td>\n",
       "    </tr>\n",
       "    <tr>\n",
       "      <th>25%</th>\n",
       "      <td>1.000000</td>\n",
       "      <td>99.000000</td>\n",
       "      <td>64.000000</td>\n",
       "      <td>0.000000</td>\n",
       "      <td>0.000000</td>\n",
       "      <td>27.400000</td>\n",
       "      <td>0.244000</td>\n",
       "      <td>24.000000</td>\n",
       "      <td>0.000000</td>\n",
       "    </tr>\n",
       "    <tr>\n",
       "      <th>50%</th>\n",
       "      <td>3.000000</td>\n",
       "      <td>117.000000</td>\n",
       "      <td>72.000000</td>\n",
       "      <td>23.000000</td>\n",
       "      <td>48.500000</td>\n",
       "      <td>32.134350</td>\n",
       "      <td>0.375500</td>\n",
       "      <td>29.000000</td>\n",
       "      <td>0.000000</td>\n",
       "    </tr>\n",
       "    <tr>\n",
       "      <th>75%</th>\n",
       "      <td>6.000000</td>\n",
       "      <td>140.250000</td>\n",
       "      <td>80.000000</td>\n",
       "      <td>32.000000</td>\n",
       "      <td>127.250000</td>\n",
       "      <td>36.500000</td>\n",
       "      <td>0.626250</td>\n",
       "      <td>41.000000</td>\n",
       "      <td>1.000000</td>\n",
       "    </tr>\n",
       "    <tr>\n",
       "      <th>max</th>\n",
       "      <td>17.000000</td>\n",
       "      <td>199.000000</td>\n",
       "      <td>122.000000</td>\n",
       "      <td>99.000000</td>\n",
       "      <td>846.000000</td>\n",
       "      <td>67.100000</td>\n",
       "      <td>2.420000</td>\n",
       "      <td>81.000000</td>\n",
       "      <td>1.000000</td>\n",
       "    </tr>\n",
       "  </tbody>\n",
       "</table>\n",
       "</div>"
      ],
      "text/plain": [
       "       Pregnancies     Glucose  BloodPressure  SkinThickness     Insulin  \\\n",
       "count   768.000000  768.000000     768.000000     768.000000  768.000000   \n",
       "mean      3.845052  120.894531      69.339028      20.725361   82.152815   \n",
       "std       3.369578   31.972618      18.839767      15.829996  114.425261   \n",
       "min       0.000000    0.000000       0.000000       0.000000    0.000000   \n",
       "25%       1.000000   99.000000      64.000000       0.000000    0.000000   \n",
       "50%       3.000000  117.000000      72.000000      23.000000   48.500000   \n",
       "75%       6.000000  140.250000      80.000000      32.000000  127.250000   \n",
       "max      17.000000  199.000000     122.000000      99.000000  846.000000   \n",
       "\n",
       "              BMI  DiabetesPedigreeFunction         Age     Outcome  \n",
       "count  768.000000                768.000000  768.000000  768.000000  \n",
       "mean    32.134350                  0.472196   33.240885    0.348958  \n",
       "std      7.496334                  0.331026   11.760232    0.476951  \n",
       "min      0.000000                  0.078000   21.000000    0.000000  \n",
       "25%     27.400000                  0.244000   24.000000    0.000000  \n",
       "50%     32.134350                  0.375500   29.000000    0.000000  \n",
       "75%     36.500000                  0.626250   41.000000    1.000000  \n",
       "max     67.100000                  2.420000   81.000000    1.000000  "
      ]
     },
     "execution_count": 9,
     "metadata": {},
     "output_type": "execute_result"
    }
   ],
   "source": [
    "#let us check with describe method to see if there are any null values after using simple imputer##\n",
    "data1.describe()"
   ]
  },
  {
   "cell_type": "code",
   "execution_count": 10,
   "metadata": {},
   "outputs": [
    {
     "data": {
      "text/html": [
       "<div>\n",
       "<style scoped>\n",
       "    .dataframe tbody tr th:only-of-type {\n",
       "        vertical-align: middle;\n",
       "    }\n",
       "\n",
       "    .dataframe tbody tr th {\n",
       "        vertical-align: top;\n",
       "    }\n",
       "\n",
       "    .dataframe thead th {\n",
       "        text-align: right;\n",
       "    }\n",
       "</style>\n",
       "<table border=\"1\" class=\"dataframe\">\n",
       "  <thead>\n",
       "    <tr style=\"text-align: right;\">\n",
       "      <th></th>\n",
       "      <th>Pregnancies</th>\n",
       "      <th>Glucose</th>\n",
       "      <th>BloodPressure</th>\n",
       "      <th>SkinThickness</th>\n",
       "      <th>Insulin</th>\n",
       "      <th>BMI</th>\n",
       "      <th>DiabetesPedigreeFunction</th>\n",
       "      <th>Age</th>\n",
       "      <th>Outcome</th>\n",
       "    </tr>\n",
       "  </thead>\n",
       "  <tbody>\n",
       "    <tr>\n",
       "      <th>count</th>\n",
       "      <td>768.000000</td>\n",
       "      <td>768.000000</td>\n",
       "      <td>768.000000</td>\n",
       "      <td>768.000000</td>\n",
       "      <td>768.000000</td>\n",
       "      <td>768.000000</td>\n",
       "      <td>768.000000</td>\n",
       "      <td>768.000000</td>\n",
       "      <td>768.000000</td>\n",
       "    </tr>\n",
       "    <tr>\n",
       "      <th>mean</th>\n",
       "      <td>3.845052</td>\n",
       "      <td>121.686763</td>\n",
       "      <td>72.353768</td>\n",
       "      <td>29.045762</td>\n",
       "      <td>151.666735</td>\n",
       "      <td>32.429935</td>\n",
       "      <td>0.472196</td>\n",
       "      <td>33.240885</td>\n",
       "      <td>0.348958</td>\n",
       "    </tr>\n",
       "    <tr>\n",
       "      <th>std</th>\n",
       "      <td>3.369578</td>\n",
       "      <td>30.435949</td>\n",
       "      <td>12.067523</td>\n",
       "      <td>8.827268</td>\n",
       "      <td>85.877415</td>\n",
       "      <td>6.832583</td>\n",
       "      <td>0.331026</td>\n",
       "      <td>11.760232</td>\n",
       "      <td>0.476951</td>\n",
       "    </tr>\n",
       "    <tr>\n",
       "      <th>min</th>\n",
       "      <td>0.000000</td>\n",
       "      <td>44.000000</td>\n",
       "      <td>24.000000</td>\n",
       "      <td>7.000000</td>\n",
       "      <td>14.000000</td>\n",
       "      <td>18.200000</td>\n",
       "      <td>0.078000</td>\n",
       "      <td>21.000000</td>\n",
       "      <td>0.000000</td>\n",
       "    </tr>\n",
       "    <tr>\n",
       "      <th>25%</th>\n",
       "      <td>1.000000</td>\n",
       "      <td>99.750000</td>\n",
       "      <td>64.000000</td>\n",
       "      <td>25.000000</td>\n",
       "      <td>110.000000</td>\n",
       "      <td>27.600000</td>\n",
       "      <td>0.244000</td>\n",
       "      <td>24.000000</td>\n",
       "      <td>0.000000</td>\n",
       "    </tr>\n",
       "    <tr>\n",
       "      <th>50%</th>\n",
       "      <td>3.000000</td>\n",
       "      <td>117.000000</td>\n",
       "      <td>72.000000</td>\n",
       "      <td>29.045762</td>\n",
       "      <td>151.666735</td>\n",
       "      <td>32.134350</td>\n",
       "      <td>0.375500</td>\n",
       "      <td>29.000000</td>\n",
       "      <td>0.000000</td>\n",
       "    </tr>\n",
       "    <tr>\n",
       "      <th>75%</th>\n",
       "      <td>6.000000</td>\n",
       "      <td>140.250000</td>\n",
       "      <td>80.000000</td>\n",
       "      <td>32.000000</td>\n",
       "      <td>151.666735</td>\n",
       "      <td>36.500000</td>\n",
       "      <td>0.626250</td>\n",
       "      <td>41.000000</td>\n",
       "      <td>1.000000</td>\n",
       "    </tr>\n",
       "    <tr>\n",
       "      <th>max</th>\n",
       "      <td>17.000000</td>\n",
       "      <td>199.000000</td>\n",
       "      <td>122.000000</td>\n",
       "      <td>99.000000</td>\n",
       "      <td>846.000000</td>\n",
       "      <td>67.100000</td>\n",
       "      <td>2.420000</td>\n",
       "      <td>81.000000</td>\n",
       "      <td>1.000000</td>\n",
       "    </tr>\n",
       "  </tbody>\n",
       "</table>\n",
       "</div>"
      ],
      "text/plain": [
       "       Pregnancies     Glucose  BloodPressure  SkinThickness     Insulin  \\\n",
       "count   768.000000  768.000000     768.000000     768.000000  768.000000   \n",
       "mean      3.845052  121.686763      72.353768      29.045762  151.666735   \n",
       "std       3.369578   30.435949      12.067523       8.827268   85.877415   \n",
       "min       0.000000   44.000000      24.000000       7.000000   14.000000   \n",
       "25%       1.000000   99.750000      64.000000      25.000000  110.000000   \n",
       "50%       3.000000  117.000000      72.000000      29.045762  151.666735   \n",
       "75%       6.000000  140.250000      80.000000      32.000000  151.666735   \n",
       "max      17.000000  199.000000     122.000000      99.000000  846.000000   \n",
       "\n",
       "              BMI  DiabetesPedigreeFunction         Age     Outcome  \n",
       "count  768.000000                768.000000  768.000000  768.000000  \n",
       "mean    32.429935                  0.472196   33.240885    0.348958  \n",
       "std      6.832583                  0.331026   11.760232    0.476951  \n",
       "min     18.200000                  0.078000   21.000000    0.000000  \n",
       "25%     27.600000                  0.244000   24.000000    0.000000  \n",
       "50%     32.134350                  0.375500   29.000000    0.000000  \n",
       "75%     36.500000                  0.626250   41.000000    1.000000  \n",
       "max     67.100000                  2.420000   81.000000    1.000000  "
      ]
     },
     "execution_count": 10,
     "metadata": {},
     "output_type": "execute_result"
    }
   ],
   "source": [
    "########################################################################################################################\n",
    "# From above we can observe that there are no any missing values, However there are some columns where data cannot be zero.Glucose, BloodPressure,SkinThickness, Insulin and BMI all are numerical data which cannot be zero.\n",
    "#we will fill the zeros with mean of each column except Pregnancies and out come#\n",
    "#####################################################################\n",
    "\n",
    "data1['Glucose'] = imputer2.fit_transform(data1[['Glucose']])\n",
    "data1['BloodPressure'] = imputer2.fit_transform(data1[['BloodPressure']])\n",
    "data1['SkinThickness']=imputer2.fit_transform(data1[['SkinThickness']])\n",
    "data1['Insulin']=imputer2.fit_transform(data1[['Insulin']])\n",
    "data1['BMI']=imputer2.fit_transform(data1[['BMI']])\n",
    "\n",
    "#####hecking the data description whether zero's are filled with mean of each column###\n",
    "\n",
    "data1.describe()\n"
   ]
  },
  {
   "cell_type": "code",
   "execution_count": 11,
   "metadata": {},
   "outputs": [
    {
     "data": {
      "text/plain": [
       "<matplotlib.axes._subplots.AxesSubplot at 0x2205be0eaf0>"
      ]
     },
     "execution_count": 11,
     "metadata": {},
     "output_type": "execute_result"
    },
    {
     "data": {
      "image/png": "[encoded data removed]",
      "text/plain": [
       "<Figure size 1080x720 with 1 Axes>"
      ]
     },
     "metadata": {
      "needs_background": "light"
     },
     "output_type": "display_data"
    }
   ],
   "source": [
    "##########Ploting boxplot if there are any outliers######\n",
    "import matplotlib.pyplot as plt\n",
    "import seaborn as sns\n",
    "\n",
    "fig, ax = plt.subplots(figsize=(15,10))\n",
    "sns.boxplot(data=data1, width=0.5, ax=ax, fliersize=3)"
   ]
  },
  {
   "cell_type": "code",
   "execution_count": 12,
   "metadata": {},
   "outputs": [
    {
     "name": "stdout",
     "output_type": "stream",
     "text": [
      "(674, 9)\n"
     ]
    },
    {
     "data": {
      "text/html": [
       "<div>\n",
       "<style scoped>\n",
       "    .dataframe tbody tr th:only-of-type {\n",
       "        vertical-align: middle;\n",
       "    }\n",
       "\n",
       "    .dataframe tbody tr th {\n",
       "        vertical-align: top;\n",
       "    }\n",
       "\n",
       "    .dataframe thead th {\n",
       "        text-align: right;\n",
       "    }\n",
       "</style>\n",
       "<table border=\"1\" class=\"dataframe\">\n",
       "  <thead>\n",
       "    <tr style=\"text-align: right;\">\n",
       "      <th></th>\n",
       "      <th>Pregnancies</th>\n",
       "      <th>Glucose</th>\n",
       "      <th>BloodPressure</th>\n",
       "      <th>SkinThickness</th>\n",
       "      <th>Insulin</th>\n",
       "      <th>BMI</th>\n",
       "      <th>DiabetesPedigreeFunction</th>\n",
       "      <th>Age</th>\n",
       "      <th>Outcome</th>\n",
       "    </tr>\n",
       "  </thead>\n",
       "  <tbody>\n",
       "    <tr>\n",
       "      <th>0</th>\n",
       "      <td>6.0</td>\n",
       "      <td>148.0</td>\n",
       "      <td>72.0</td>\n",
       "      <td>35.000000</td>\n",
       "      <td>151.666735</td>\n",
       "      <td>33.6</td>\n",
       "      <td>0.627</td>\n",
       "      <td>50.0</td>\n",
       "      <td>1.0</td>\n",
       "    </tr>\n",
       "    <tr>\n",
       "      <th>1</th>\n",
       "      <td>1.0</td>\n",
       "      <td>85.0</td>\n",
       "      <td>66.0</td>\n",
       "      <td>29.000000</td>\n",
       "      <td>151.666735</td>\n",
       "      <td>26.6</td>\n",
       "      <td>0.351</td>\n",
       "      <td>31.0</td>\n",
       "      <td>0.0</td>\n",
       "    </tr>\n",
       "    <tr>\n",
       "      <th>2</th>\n",
       "      <td>8.0</td>\n",
       "      <td>183.0</td>\n",
       "      <td>64.0</td>\n",
       "      <td>29.045762</td>\n",
       "      <td>151.666735</td>\n",
       "      <td>23.3</td>\n",
       "      <td>0.672</td>\n",
       "      <td>32.0</td>\n",
       "      <td>1.0</td>\n",
       "    </tr>\n",
       "    <tr>\n",
       "      <th>3</th>\n",
       "      <td>1.0</td>\n",
       "      <td>89.0</td>\n",
       "      <td>66.0</td>\n",
       "      <td>23.000000</td>\n",
       "      <td>94.000000</td>\n",
       "      <td>28.1</td>\n",
       "      <td>0.167</td>\n",
       "      <td>21.0</td>\n",
       "      <td>0.0</td>\n",
       "    </tr>\n",
       "    <tr>\n",
       "      <th>5</th>\n",
       "      <td>5.0</td>\n",
       "      <td>116.0</td>\n",
       "      <td>74.0</td>\n",
       "      <td>29.045762</td>\n",
       "      <td>151.666735</td>\n",
       "      <td>25.6</td>\n",
       "      <td>0.201</td>\n",
       "      <td>30.0</td>\n",
       "      <td>0.0</td>\n",
       "    </tr>\n",
       "  </tbody>\n",
       "</table>\n",
       "</div>"
      ],
      "text/plain": [
       "   Pregnancies  Glucose  BloodPressure  SkinThickness     Insulin   BMI  \\\n",
       "0          6.0    148.0           72.0      35.000000  151.666735  33.6   \n",
       "1          1.0     85.0           66.0      29.000000  151.666735  26.6   \n",
       "2          8.0    183.0           64.0      29.045762  151.666735  23.3   \n",
       "3          1.0     89.0           66.0      23.000000   94.000000  28.1   \n",
       "5          5.0    116.0           74.0      29.045762  151.666735  25.6   \n",
       "\n",
       "   DiabetesPedigreeFunction   Age  Outcome  \n",
       "0                     0.627  50.0      1.0  \n",
       "1                     0.351  31.0      0.0  \n",
       "2                     0.672  32.0      1.0  \n",
       "3                     0.167  21.0      0.0  \n",
       "5                     0.201  30.0      0.0  "
      ]
     },
     "execution_count": 12,
     "metadata": {},
     "output_type": "execute_result"
    }
   ],
   "source": [
    "###########Removing outliers from data of each column and checking if outliers have been removed using shape method#########\n",
    "q = data1['Pregnancies'].quantile(0.98)\n",
    "# we are removing the top 2% data from the Pregnancies column\n",
    "data_cleaned = data1[data1['Pregnancies']<q]\n",
    "q = data_cleaned['BMI'].quantile(0.99)\n",
    "# we are removing the top 1% data from the BMI column\n",
    "data_cleaned  = data_cleaned[data_cleaned['BMI']<q]\n",
    "q = data_cleaned['SkinThickness'].quantile(0.99)\n",
    "# we are removing the top 1% data from the SkinThickness column\n",
    "data_cleaned  = data_cleaned[data_cleaned['SkinThickness']<q]\n",
    "q = data_cleaned['Insulin'].quantile(0.95)\n",
    "# we are removing the top 5% data from the Insulin column\n",
    "data_cleaned  = data_cleaned[data_cleaned['Insulin']<q]\n",
    "q = data_cleaned['DiabetesPedigreeFunction'].quantile(0.99)\n",
    "# we are removing the top 1% data from the DiabetesPedigreeFunction column\n",
    "data_cleaned  = data_cleaned[data_cleaned['DiabetesPedigreeFunction']<q]\n",
    "q = data_cleaned['Age'].quantile(0.99)\n",
    "# we are removing the top 1% data from the Age column\n",
    "data_cleaned  = data_cleaned[data_cleaned['Age']<q]\n",
    "\n",
    "print(data_cleaned.shape)\n",
    "\n",
    "data_cleaned.head()"
   ]
  },
  {
   "cell_type": "code",
   "execution_count": 43,
   "metadata": {},
   "outputs": [
    {
     "name": "stdout",
     "output_type": "stream",
     "text": [
      "Accuracy for test data with out RandomizedSearchCV:::: 0.813953488372093\n",
      "Fl Score for Log Regression before RSCV :::: 0.6666666666666666\n",
      "-----------------------------------------------------------------------------\n",
      "Fitting 5 folds for each of 6 candidates, totalling 30 fits\n"
     ]
    },
    {
     "name": "stderr",
     "output_type": "stream",
     "text": [
      "[Parallel(n_jobs=-1)]: Using backend LokyBackend with 8 concurrent workers.\n"
     ]
    },
    {
     "name": "stdout",
     "output_type": "stream",
     "text": [
      "Best Estimator :::: LogisticRegression(C=0.1, penalty='l1', solver='saga')\n",
      "Best score:::: 0.7688073394495414\n",
      "Best Params:::: {'solver': 'saga', 'penalty': 'l1', 'C': 0.1}\n",
      "-----------------------------------------------------------------------------\n"
     ]
    },
    {
     "name": "stderr",
     "output_type": "stream",
     "text": [
      "[Parallel(n_jobs=-1)]: Done  30 out of  30 | elapsed:    1.9s finished\n"
     ]
    }
   ],
   "source": [
    "from sklearn.model_selection import train_test_split , RandomizedSearchCV\n",
    "from sklearn.linear_model import LogisticRegression\n",
    "from sklearn.metrics import f1_score,accuracy_score\n",
    "from sklearn.preprocessing import StandardScaler\n",
    "###########Seperating Features and target ######\n",
    "features=data_cleaned.drop(columns='Outcome')\n",
    "target= data_cleaned.Outcome\n",
    "\n",
    "############Scaling features data###########\n",
    "scalar = StandardScaler()\n",
    "data1_scaled = scalar.fit_transform(features)\n",
    "\n",
    "\n",
    "############The following code is used for Logistic regression with out randomized search cv######\n",
    "\n",
    "x_train,x_test,y_train,y_test = train_test_split(data1_scaled,target,test_size = 0.19, random_state= 355)\n",
    "log_reg_1= LogisticRegression()\n",
    "log_reg_1.fit(x_train,y_train)\n",
    "print('Accuracy for test data with out RandomizedSearchCV::::',log_reg_1.score(x_test,y_test))\n",
    "\n",
    "log_reg_model_before_RSCV=log_reg_1\n",
    "\n",
    "\n",
    "### The following code is for storing f1 score\n",
    "y_pred=log_reg_1.predict(x_test)\n",
    "print('Fl Score for Log Regression before RSCV ::::', f1_score(y_test,y_pred))\n",
    "F1_LR_Before_RSCV= f1_score(y_test,y_pred)\n",
    "\n",
    "print('-----------------------------------------------------------------------------')\n",
    "\n",
    "##################################################################################################\n",
    "# Following code is for Hyper parameter tuning for Logistic Regression with RandomizedSearchCV\n",
    "\n",
    "# C represents the inverse of regularization strength\n",
    "# l1 and l2 are penalities (lasso and ridge)\n",
    "# saga is used for large data \n",
    "##################################################################################################\n",
    "\n",
    "#C = np.logspace(0, 10, num=100)\n",
    "#C=[0.0001,0.001,0.01,0.1,1.0,10.0,100.0,1.1,1.2,1.3,1.4,1.5,1.6,1.7,1.8,1.9,2.0,0.9,0.8,0.7,0.6,0.5,0.4,0.3,0.2]\n",
    "#c=[0.01,0.1,1.0]\n",
    "C=[0.1,0.001,0.0001]\n",
    "penalty = ['l2','l1']\n",
    "solver = ['saga']\n",
    "\n",
    "hyperparameters = dict(C=C, penalty=penalty, solver=solver)\n",
    "randomizedsearch = RandomizedSearchCV(log_reg_1, hyperparameters,random_state=155,verbose=1, n_jobs=-1,n_iter=100)\n",
    "\n",
    "best_model_random = randomizedsearch.fit(x_train,y_train)\n",
    "print('Best Estimator ::::',best_model_random.best_estimator_)\n",
    "print('Best score::::', best_model_random.best_score_)\n",
    "print('Best Params::::',best_model_random.best_params_)\n",
    "\n",
    "print('-----------------------------------------------------------------------------')\n",
    "\n"
   ]
  },
  {
   "cell_type": "code",
   "execution_count": 45,
   "metadata": {},
   "outputs": [
    {
     "name": "stdout",
     "output_type": "stream",
     "text": [
      "Accuracy for Logistic Regression after RandomizedSearchCV ::::  0.8294573643410853\n",
      "Fl Score for Log Regression after RSCV :::: 0.6857142857142856\n"
     ]
    }
   ],
   "source": [
    "##################################################################################################\n",
    "# Following code is for finding model accuiracy for Logistic Regression after RandomizedSearchCV and for storing F1 score\n",
    "##################################################################################################\n",
    "\n",
    "log_reg_1=LogisticRegression(C=0.1, penalty='l1', solver='saga')\n",
    "\n",
    "log_reg_1.fit(x_train,y_train)\n",
    "print('Accuracy for Logistic Regression after RandomizedSearchCV :::: ', log_reg_1.score(x_test,y_test))\n",
    "\n",
    "y_pred=log_reg_1.predict(x_test)\n",
    "print('Fl Score for Log Regression after RSCV ::::', f1_score(y_test,y_pred))\n",
    "F1_LR_After_RSCV= f1_score(y_test,y_pred)\n",
    "\n",
    "######  The model accuracy after RandomizedSearchCV has increased from 0.8139534 to 0.829457 "
   ]
  },
  {
   "cell_type": "code",
   "execution_count": 46,
   "metadata": {},
   "outputs": [
    {
     "name": "stdout",
     "output_type": "stream",
     "text": [
      "Acuracy for KNN before RSCV:::: 0.751937984496124\n",
      "Fl Score for KNN before RSCV:::: 0.5897435897435899\n",
      "-----------------------------------------------------------------------------\n"
     ]
    }
   ],
   "source": [
    "from sklearn.neighbors import KNeighborsClassifier\n",
    "\n",
    "\n",
    "x_train,x_test,y_train,y_test = train_test_split(data1_scaled,target,test_size = 0.19, random_state= 355)\n",
    "\n",
    "##################################################################################################\n",
    "\n",
    "# The following code is for finding accuracy for KNN with out RandomizedSearchCV\n",
    "\n",
    "##################################################################################################\n",
    "\n",
    "knn=KNeighborsClassifier()\n",
    "knn.fit(x_train,y_train)\n",
    "print('Acuracy for KNN before RSCV::::', knn.score(x_test,y_test))\n",
    "\n",
    "y_pred=knn.predict(x_test)\n",
    "print('Fl Score for KNN before RSCV::::', f1_score(y_test,y_pred))\n",
    "F1_KNN_Before_RSCV= f1_score(y_test,y_pred)\n",
    "knn_model_before_RSCV=knn\n",
    "\n",
    "print('---------------------------------------------------------------------------)\n"
   ]
  },
  {
   "cell_type": "code",
   "execution_count": 47,
   "metadata": {},
   "outputs": [
    {
     "name": "stdout",
     "output_type": "stream",
     "text": [
      "Best Estimator :::: KNeighborsClassifier(algorithm='ball_tree', leaf_size=18, n_neighbors=14)\n",
      "Best score:::: 0.7691137566137566\n",
      "Best Params:::: {'n_neighbors': 14, 'leaf_size': 18, 'algorithm': 'ball_tree'}\n",
      "-----------------------------------------------------------------------------\n"
     ]
    }
   ],
   "source": [
    "\n",
    "##################################################################################################\n",
    "# Following code is for Hyper parameter tuning for KNN with RandomizedSearchCV\n",
    "##################################################################################################\n",
    "\n",
    "k_range=list(range(10,15))\n",
    "param_random_2={ 'algorithm' : ['ball_tree', 'kd_tree', 'brute'],\n",
    "               'leaf_size' : [18,20,25,27,30,32,34],\n",
    "               'n_neighbors' :[11,12,13,14,15,16]            }  \n",
    "\n",
    "randomizedsearch_2 = RandomizedSearchCV(knn, param_random_2, cv=20, scoring='accuracy', n_iter=1000, random_state=55)\n",
    "randomizedsearch_2.fit(x_train, y_train)\n",
    "\n",
    "\n",
    "print('Best Estimator ::::',randomizedsearch_2.best_estimator_)\n",
    "print('Best score::::', randomizedsearch_2.best_score_)\n",
    "print('Best Params::::',randomizedsearch_2.best_params_)\n",
    "\n",
    "print('-----------------------------------------------------------------------------')\n"
   ]
  },
  {
   "cell_type": "code",
   "execution_count": 48,
   "metadata": {},
   "outputs": [
    {
     "name": "stdout",
     "output_type": "stream",
     "text": [
      "Acuuracy for KNN after RSCV:::: 0.7674418604651163\n",
      "Fl Score for KNN after RSCV:::: 0.5945945945945946\n"
     ]
    }
   ],
   "source": [
    "##################################################################################################\n",
    "# Following code is for finding model accuiracy for KNN after RandomizedSearchCV and storing F1 score\n",
    "##################################################################################################\n",
    "\n",
    "knn=KNeighborsClassifier(algorithm='ball_tree', leaf_size=18, n_neighbors=14)\n",
    "knn.fit(x_train,y_train)\n",
    "print('Acuuracy for KNN after RSCV::::',knn.score(x_test,y_test))\n",
    "\n",
    "y_pred=knn.predict(x_test)\n",
    "print('Fl Score for KNN after RSCV::::', f1_score(y_test,y_pred))\n",
    "F1_KNN_after_RSCV= f1_score(y_test,y_pred)"
   ]
  },
  {
   "cell_type": "code",
   "execution_count": 50,
   "metadata": {},
   "outputs": [
    {
     "name": "stdout",
     "output_type": "stream",
     "text": [
      "Accuracy for Decision Tree before RSCV:::: 0.7286821705426356\n",
      "Fl Score for Decision Tree before RSCV:::: 0.5882352941176471\n",
      "-----------------------------------------------------------------------------\n",
      "Best Estimator :::: DecisionTreeClassifier(criterion='entropy', max_depth=7, min_samples_leaf=8,\n",
      "                       min_samples_split=8, splitter='random')\n",
      "Best score:::: 0.7520875420875421\n",
      "Best Params:::: {'splitter': 'random', 'min_samples_split': 8, 'min_samples_leaf': 8, 'max_depth': 7, 'criterion': 'entropy'}\n",
      "-----------------------------------------------------------------------------\n"
     ]
    }
   ],
   "source": [
    "from scipy.stats import randint\n",
    "from sklearn.tree import DecisionTreeClassifier\n",
    "\n",
    "\n",
    "x_train,x_test,y_train,y_test = train_test_split(data1_scaled,target,test_size = 0.19, random_state= 355)\n",
    "\n",
    "\n",
    "\n",
    "##################################################################################################\n",
    "\n",
    "# The following code is for finding accuracy for Decisoin Tree with out RandomizedSearchCV\n",
    "\n",
    "##################################################################################################\n",
    "\n",
    "model_tree=DecisionTreeClassifier()\n",
    "model_tree.fit(x_train,y_train)\n",
    "print('Accuracy for Decision Tree before RSCV::::', model_tree.score(x_test,y_test))\n",
    "\n",
    "y_pred=model_tree.predict(x_test)\n",
    "print('Fl Score for Decision Tree before RSCV::::', f1_score(y_test,y_pred))\n",
    "F1_DT_Before_RSCV= f1_score(y_test,y_pred)\n",
    "\n",
    "decision_tree_model_before_RSCV=model_tree\n",
    "\n",
    "print('-----------------------------------------------------------------------------')\n",
    "\n",
    "##################################################################################################\n",
    "# Following code is for Hyper parameter tuning for Decision Tree with RandomizedSearchCV\n",
    "##################################################################################################\n",
    "\n",
    "param_dist_3 = {\n",
    "    'criterion': ['gini', 'entropy'],\n",
    "    'max_depth' : range(2,32,1),\n",
    "    'min_samples_leaf' : range(1,10,1),\n",
    "    'min_samples_split': range(2,10,1),\n",
    "    'splitter' : ['best', 'random']\n",
    "}\n",
    "\n",
    "random_search_3=RandomizedSearchCV(model_tree,param_dist_3,cv=10,random_state=355)\n",
    "\n",
    "random_search_3.fit(x_train,y_train)\n",
    "\n",
    "print('Best Estimator ::::',random_search_3.best_estimator_)\n",
    "print('Best score::::', random_search_3.best_score_)\n",
    "print('Best Params::::',random_search_3.best_params_)\n",
    "\n",
    "print('-----------------------------------------------------------------------------')"
   ]
  },
  {
   "cell_type": "code",
   "execution_count": 51,
   "metadata": {},
   "outputs": [
    {
     "name": "stdout",
     "output_type": "stream",
     "text": [
      "Accuracy for Decision Treee after RSCV:::: 0.8294573643410853\n",
      "Fl Score for Decision Tree after RSCV:::: 0.7027027027027027\n"
     ]
    }
   ],
   "source": [
    "\n",
    "##################################################################################################\n",
    "# Following code is for finding model accuiracy for Decision Tree after RandomizedSearchCV and storing F1 score\n",
    "##################################################################################################\n",
    "\n",
    "# 0.763367 and 0.80620\n",
    "model_tree=DecisionTreeClassifier(criterion='entropy', max_depth=7, min_samples_leaf=8,\n",
    "                       min_samples_split=8, splitter='random')\n",
    "\n",
    "#model_tree=DecisionTreeClassifier(criterion = 'gini', max_depth =3, min_samples_leaf= 6, min_samples_split= 8, splitter ='best')\n",
    "model_tree.fit(x_train,y_train)\n",
    "print('Accuracy for Decision Treee after RSCV::::', model_tree.score(x_test,y_test))\n",
    "\n",
    "\n",
    "y_pred=model_tree.predict(x_test)\n",
    "print('Fl Score for Decision Tree after RSCV::::', f1_score(y_test,y_pred))\n",
    "F1_DT_After_RSCV= f1_score(y_test,y_pred)\n"
   ]
  },
  {
   "cell_type": "code",
   "execution_count": 52,
   "metadata": {},
   "outputs": [
    {
     "data": {
      "text/plain": [
       "<sklearn.metrics._plot.roc_curve.RocCurveDisplay at 0x22060fa8430>"
      ]
     },
     "execution_count": 52,
     "metadata": {},
     "output_type": "execute_result"
    },
    {
     "data": {
      "image/png": "[encoded data removed]",
      "text/plain": [
       "<Figure size 432x288 with 1 Axes>"
      ]
     },
     "metadata": {
      "needs_background": "light"
     },
     "output_type": "display_data"
    }
   ],
   "source": [
    "###################################################################################################################\n",
    "\n",
    "# Following code is for plotting AUC and ROC curve for all 3 models i-e Logistic Regression, KNN and Decision Tree after Randomized Search CV\n",
    "\n",
    "###################################################################################################################\n",
    "\n",
    "from sklearn.metrics import plot_roc_curve\n",
    "disp=plot_roc_curve(log_reg_1,x_test,y_test)\n",
    "plot_roc_curve(knn,x_test,y_test,ax=disp.ax_)\n",
    "plot_roc_curve(model_tree,x_test,y_test,ax=disp.ax_)\n"
   ]
  },
  {
   "cell_type": "code",
   "execution_count": 53,
   "metadata": {},
   "outputs": [
    {
     "data": {
      "text/plain": [
       "<sklearn.metrics._plot.roc_curve.RocCurveDisplay at 0x22060e48760>"
      ]
     },
     "execution_count": 53,
     "metadata": {},
     "output_type": "execute_result"
    },
    {
     "data": {
      "image/png": "[encoded data removed]",
      "text/plain": [
       "<Figure size 432x288 with 1 Axes>"
      ]
     },
     "metadata": {
      "needs_background": "light"
     },
     "output_type": "display_data"
    }
   ],
   "source": [
    "###################################################################################################################\n",
    "\n",
    "# Following code is for plotting AUC and ROC curve for all 3 models i-e Logistic Regression, KNN and Decision Tree after Randomized Search CV\n",
    "\n",
    "###################################################################################################################\n",
    "\n",
    "from sklearn.metrics import plot_roc_curve\n",
    "disp=plot_roc_curve(log_reg_1,x_test,y_test)\n",
    "plot_roc_curve(knn,x_test,y_test,ax=disp.ax_)\n",
    "plot_roc_curve(model_tree,x_test,y_test,ax=disp.ax_)\n"
   ]
  },
  {
   "cell_type": "code",
   "execution_count": 54,
   "metadata": {},
   "outputs": [
    {
     "name": "stdout",
     "output_type": "stream",
     "text": [
      "(674, 8)\n"
     ]
    },
    {
     "data": {
      "image/png": "[encoded data removed]",
      "text/plain": [
       "<Figure size 432x288 with 1 Axes>"
      ]
     },
     "metadata": {
      "needs_background": "light"
     },
     "output_type": "display_data"
    }
   ],
   "source": [
    "\n",
    "###################################################################################################################\n",
    "\n",
    "# Following code is for plotting PCA figure to check if we can reduce the no of features and achieve better accuracy\n",
    "\n",
    "###################################################################################################################\n",
    "\n",
    "from sklearn.decomposition import PCA\n",
    "print(data1_scaled.shape)\n",
    "\n",
    "\n",
    "import matplotlib.pyplot as plt\n",
    "import numpy as np\n",
    "pca = PCA()\n",
    "principalComponents = pca.fit_transform(data1_scaled)\n",
    "plt.figure()\n",
    "plt.plot(np.cumsum(pca.explained_variance_ratio_))\n",
    "plt.xlabel('Number of Components')\n",
    "plt.ylabel('Variance (%)') #for each component\n",
    "plt.title('Explained Variance')\n",
    "plt.show()\n",
    "\n",
    "\n",
    "\n"
   ]
  },
  {
   "cell_type": "code",
   "execution_count": 57,
   "metadata": {},
   "outputs": [],
   "source": [
    "# From the above figure , it is seen that for seven components itself, we can achieve maximum variance,\n",
    "# but if we go for 6 componenets there is less variance achieved. Any ways we are trying PCA for both n=7 and n=6 and get the results"
   ]
  },
  {
   "cell_type": "code",
   "execution_count": 58,
   "metadata": {},
   "outputs": [
    {
     "data": {
      "text/html": [
       "<div>\n",
       "<style scoped>\n",
       "    .dataframe tbody tr th:only-of-type {\n",
       "        vertical-align: middle;\n",
       "    }\n",
       "\n",
       "    .dataframe tbody tr th {\n",
       "        vertical-align: top;\n",
       "    }\n",
       "\n",
       "    .dataframe thead th {\n",
       "        text-align: right;\n",
       "    }\n",
       "</style>\n",
       "<table border=\"1\" class=\"dataframe\">\n",
       "  <thead>\n",
       "    <tr style=\"text-align: right;\">\n",
       "      <th></th>\n",
       "      <th>PC-1</th>\n",
       "      <th>PC-2</th>\n",
       "      <th>PC-3</th>\n",
       "      <th>PC-4</th>\n",
       "      <th>PC-5</th>\n",
       "      <th>PC-6</th>\n",
       "      <th>PC-7</th>\n",
       "    </tr>\n",
       "  </thead>\n",
       "  <tbody>\n",
       "    <tr>\n",
       "      <th>0</th>\n",
       "      <td>1.944527</td>\n",
       "      <td>0.548036</td>\n",
       "      <td>0.302086</td>\n",
       "      <td>0.483886</td>\n",
       "      <td>-0.582683</td>\n",
       "      <td>0.485726</td>\n",
       "      <td>0.584902</td>\n",
       "    </tr>\n",
       "    <tr>\n",
       "      <th>1</th>\n",
       "      <td>-1.199585</td>\n",
       "      <td>-0.171191</td>\n",
       "      <td>-0.053912</td>\n",
       "      <td>-0.310534</td>\n",
       "      <td>-0.462633</td>\n",
       "      <td>-1.012239</td>\n",
       "      <td>0.570450</td>\n",
       "    </tr>\n",
       "    <tr>\n",
       "      <th>2</th>\n",
       "      <td>0.802954</td>\n",
       "      <td>1.227411</td>\n",
       "      <td>1.767187</td>\n",
       "      <td>0.054006</td>\n",
       "      <td>-0.798196</td>\n",
       "      <td>1.202896</td>\n",
       "      <td>0.574357</td>\n",
       "    </tr>\n",
       "    <tr>\n",
       "      <th>3</th>\n",
       "      <td>-2.233670</td>\n",
       "      <td>-0.151641</td>\n",
       "      <td>-0.644883</td>\n",
       "      <td>-0.526925</td>\n",
       "      <td>0.220222</td>\n",
       "      <td>-0.044525</td>\n",
       "      <td>-0.053271</td>\n",
       "    </tr>\n",
       "    <tr>\n",
       "      <th>4</th>\n",
       "      <td>-0.237700</td>\n",
       "      <td>0.673137</td>\n",
       "      <td>-0.186803</td>\n",
       "      <td>-0.908256</td>\n",
       "      <td>-0.295482</td>\n",
       "      <td>-0.434523</td>\n",
       "      <td>0.298618</td>\n",
       "    </tr>\n",
       "    <tr>\n",
       "      <th>...</th>\n",
       "      <td>...</td>\n",
       "      <td>...</td>\n",
       "      <td>...</td>\n",
       "      <td>...</td>\n",
       "      <td>...</td>\n",
       "      <td>...</td>\n",
       "      <td>...</td>\n",
       "    </tr>\n",
       "    <tr>\n",
       "      <th>669</th>\n",
       "      <td>3.004509</td>\n",
       "      <td>1.264230</td>\n",
       "      <td>-1.903176</td>\n",
       "      <td>-0.321159</td>\n",
       "      <td>-2.127497</td>\n",
       "      <td>-0.866582</td>\n",
       "      <td>1.036558</td>\n",
       "    </tr>\n",
       "    <tr>\n",
       "      <th>670</th>\n",
       "      <td>-0.132899</td>\n",
       "      <td>-0.864860</td>\n",
       "      <td>0.088716</td>\n",
       "      <td>-0.512170</td>\n",
       "      <td>0.090838</td>\n",
       "      <td>0.119027</td>\n",
       "      <td>-0.580210</td>\n",
       "    </tr>\n",
       "    <tr>\n",
       "      <th>671</th>\n",
       "      <td>-0.757774</td>\n",
       "      <td>1.048824</td>\n",
       "      <td>-0.176717</td>\n",
       "      <td>-0.515909</td>\n",
       "      <td>0.155605</td>\n",
       "      <td>0.270601</td>\n",
       "      <td>-0.034143</td>\n",
       "    </tr>\n",
       "    <tr>\n",
       "      <th>672</th>\n",
       "      <td>-0.021499</td>\n",
       "      <td>0.197116</td>\n",
       "      <td>0.511262</td>\n",
       "      <td>-0.471772</td>\n",
       "      <td>-0.649296</td>\n",
       "      <td>0.241394</td>\n",
       "      <td>0.804602</td>\n",
       "    </tr>\n",
       "    <tr>\n",
       "      <th>673</th>\n",
       "      <td>-0.978119</td>\n",
       "      <td>-0.903199</td>\n",
       "      <td>-0.256517</td>\n",
       "      <td>-0.498632</td>\n",
       "      <td>-0.191096</td>\n",
       "      <td>-0.809988</td>\n",
       "      <td>0.217945</td>\n",
       "    </tr>\n",
       "  </tbody>\n",
       "</table>\n",
       "<p>674 rows × 7 columns</p>\n",
       "</div>"
      ],
      "text/plain": [
       "         PC-1      PC-2      PC-3      PC-4      PC-5      PC-6      PC-7\n",
       "0    1.944527  0.548036  0.302086  0.483886 -0.582683  0.485726  0.584902\n",
       "1   -1.199585 -0.171191 -0.053912 -0.310534 -0.462633 -1.012239  0.570450\n",
       "2    0.802954  1.227411  1.767187  0.054006 -0.798196  1.202896  0.574357\n",
       "3   -2.233670 -0.151641 -0.644883 -0.526925  0.220222 -0.044525 -0.053271\n",
       "4   -0.237700  0.673137 -0.186803 -0.908256 -0.295482 -0.434523  0.298618\n",
       "..        ...       ...       ...       ...       ...       ...       ...\n",
       "669  3.004509  1.264230 -1.903176 -0.321159 -2.127497 -0.866582  1.036558\n",
       "670 -0.132899 -0.864860  0.088716 -0.512170  0.090838  0.119027 -0.580210\n",
       "671 -0.757774  1.048824 -0.176717 -0.515909  0.155605  0.270601 -0.034143\n",
       "672 -0.021499  0.197116  0.511262 -0.471772 -0.649296  0.241394  0.804602\n",
       "673 -0.978119 -0.903199 -0.256517 -0.498632 -0.191096 -0.809988  0.217945\n",
       "\n",
       "[674 rows x 7 columns]"
      ]
     },
     "execution_count": 58,
     "metadata": {},
     "output_type": "execute_result"
    }
   ],
   "source": [
    "##################################################################################################\n",
    "\n",
    "# The following code is for transforming our previous data(scaled data of features) into 7 components (columns/features) instead of 8 features \n",
    "# and see if we can achieve more accuracy\n",
    "\n",
    "##################################################################################################\n",
    "\n",
    "pca = PCA(n_components=7)\n",
    "data1_scaled_1 = pca.fit_transform(data1_scaled)\n",
    "\n",
    "principal_x = pd.DataFrame(data1_scaled_1,columns=['PC-1','PC-2','PC-3','PC-4','PC-5','PC-6','PC-7'])\n",
    "principal_x\n"
   ]
  },
  {
   "cell_type": "code",
   "execution_count": 60,
   "metadata": {},
   "outputs": [
    {
     "name": "stdout",
     "output_type": "stream",
     "text": [
      "Accuracy for Logistic Regression with PCA Before RSCV:::: 0.813953488372093\n"
     ]
    }
   ],
   "source": [
    "#################################################################################################\n",
    "\n",
    "# The following code is for finding accuracy for Logistic Regression with PCA=7\n",
    "\n",
    "##################################################################################################\n",
    "\n",
    "x_train,x_test,y_train,y_test = train_test_split(principal_x,target,test_size = 0.19, random_state= 355)\n",
    "\n",
    "logistic_model=LogisticRegression()\n",
    "logistic_model.fit(x_train,y_train)\n",
    "print('Accuracy for Logistic Regression with PCA Before RSCV::::',logistic_model.score(x_test,y_test))\n",
    "\n",
    "y_pred=logistic_model.predict(x_test)\n",
    "F1_LR_Before_RSCV_with_PCA_7=f1_score(y_test,y_pred,average='macro')\n"
   ]
  },
  {
   "cell_type": "code",
   "execution_count": 61,
   "metadata": {},
   "outputs": [
    {
     "name": "stdout",
     "output_type": "stream",
     "text": [
      "Accuracy for KNN with PCA before RSCV:::: 0.7487684729064039\n"
     ]
    }
   ],
   "source": [
    "\n",
    "# The following code is for finding accuracy for KNN with PCA=7\n",
    "\n",
    "##################################################################################################\n",
    "\n",
    "\n",
    "x_train,x_test,y_train,y_test = train_test_split(principal_x,target,test_size = 0.30, random_state= 355)\n",
    "\n",
    "knn=KNeighborsClassifier()\n",
    "knn.fit(x_train,y_train)\n",
    "print('Accuracy for KNN with PCA before RSCV::::',knn.score(x_test,y_test))\n",
    "\n",
    "\n",
    "y_pred=knn.predict(x_test)\n",
    "F1_KNN_Before_RSCV_with_PCA_7=f1_score(y_test,y_pred,average='macro')\n",
    "\n"
   ]
  },
  {
   "cell_type": "code",
   "execution_count": 62,
   "metadata": {},
   "outputs": [
    {
     "name": "stdout",
     "output_type": "stream",
     "text": [
      "Accuracy for Decision Tree with PCA before RSCV:::: 0.7093596059113301\n"
     ]
    }
   ],
   "source": [
    "##################################################################################################\n",
    "\n",
    "# The following code is for finding accuracy for Decision Tree with PCA=7\n",
    "\n",
    "##################################################################################################\n",
    "\n",
    "\n",
    "from scipy.stats import randint\n",
    "from sklearn.tree import DecisionTreeClassifier\n",
    "\n",
    "x_train,x_test,y_train,y_test = train_test_split(principal_x,target,test_size = 0.30, random_state= 355)\n",
    "\n",
    "model_tree=DecisionTreeClassifier()\n",
    "model_tree.fit(x_train,y_train)\n",
    "print('Accuracy for Decision Tree with PCA before RSCV::::',model_tree.score(x_test,y_test))\n",
    "\n",
    "y_pred=model_tree.predict(x_test)\n",
    "F1_DT_Before_RSCV_with_PCA_7=f1_score(y_test,y_pred,average='macro')\n"
   ]
  },
  {
   "cell_type": "code",
   "execution_count": 63,
   "metadata": {},
   "outputs": [],
   "source": [
    "##################################################################\n",
    "\n",
    "#   F1 scores for all 3 models in various possibilities:\n",
    "\n",
    "#################################################################"
   ]
  },
  {
   "cell_type": "code",
   "execution_count": 64,
   "metadata": {},
   "outputs": [
    {
     "name": "stdout",
     "output_type": "stream",
     "text": [
      "F1 score for Logistic Regression before Randomized Search CV :  0.6666666666666666\n",
      "F1 score for Logistic Regression after Randomized Search CV :  0.6857142857142856\n",
      "F1 score for KNN before Randomized Search CV :  0.5897435897435899\n",
      "F1 score for KNN after Randomized Search CV :  0.5945945945945946\n",
      "F1 score for Decision Tree before Randomized Search CV :  0.5882352941176471\n",
      "F1 score for Decision Tree after Randomized Search CV :  0.7027027027027027\n",
      "-------------------------------------------------------------------------\n",
      "F1 score for Logistic Regression before Randomized Search CV with PCA:  0.7688172043010753\n",
      "F1 score for KNN before Randomized Search CV with PCA:  0.7025769197621305\n",
      "F1 score for Decision Tree before Randomized Search CV with PCA:  0.6675364330326163\n"
     ]
    }
   ],
   "source": [
    "print('F1 score for Logistic Regression before Randomized Search CV : ',F1_LR_Before_RSCV)\n",
    "print('F1 score for Logistic Regression after Randomized Search CV : ',F1_LR_After_RSCV)\n",
    "print('F1 score for KNN before Randomized Search CV : ',F1_KNN_Before_RSCV)\n",
    "print('F1 score for KNN after Randomized Search CV : ',F1_KNN_after_RSCV)\n",
    "print('F1 score for Decision Tree before Randomized Search CV : ',F1_DT_Before_RSCV)\n",
    "print('F1 score for Decision Tree after Randomized Search CV : ',F1_DT_After_RSCV)\n",
    "\n",
    "############# F1 scores with PCA =7\n",
    "\n",
    "print('-------------------------------------------------------------------------')\n",
    "\n",
    "print('F1 score for Logistic Regression before Randomized Search CV with PCA: ',F1_LR_Before_RSCV_with_PCA_7)\n",
    "print('F1 score for KNN before Randomized Search CV with PCA: ',F1_KNN_Before_RSCV_with_PCA_7)\n",
    "print('F1 score for Decision Tree before Randomized Search CV with PCA: ',F1_DT_Before_RSCV_with_PCA_7)\n"
   ]
  },
  {
   "cell_type": "code",
   "execution_count": 65,
   "metadata": {},
   "outputs": [],
   "source": [
    "# F1 score is maximumm for Logistic Regression before Randomized Search CV with PCA with value:  0.7688172043010753"
   ]
  },
  {
   "cell_type": "code",
   "execution_count": 66,
   "metadata": {},
   "outputs": [
    {
     "data": {
      "text/plain": [
       "<sklearn.metrics._plot.roc_curve.RocCurveDisplay at 0x22061100b50>"
      ]
     },
     "execution_count": 66,
     "metadata": {},
     "output_type": "execute_result"
    },
    {
     "data": {
      "image/png": "[encoded data removed]",
      "text/plain": [
       "<Figure size 432x288 with 1 Axes>"
      ]
     },
     "metadata": {
      "needs_background": "light"
     },
     "output_type": "display_data"
    }
   ],
   "source": [
    "##################################################################################################\n",
    "\n",
    "# The following code is for plotting roc curve for logistic, knn and decision tree with PCA=7\n",
    "\n",
    "# The following code plots all roc curve to calculate AUC score for all the 3 models in same figure \n",
    "\n",
    "##################################################################################################\n",
    "\n",
    "\n",
    "\n",
    "disp=plot_roc_curve(model_tree,x_test,y_test)\n",
    "plot_roc_curve(knn,x_test,y_test,ax=disp.ax_)\n",
    "plot_roc_curve(logistic_model,x_test,y_test,ax=disp.ax_)"
   ]
  },
  {
   "cell_type": "code",
   "execution_count": null,
   "metadata": {},
   "outputs": [],
   "source": [
    "##############################################################################\n",
    "\n",
    "#    Final Analysis table:\n",
    "\n",
    "##############################################################################\n",
    "                     \n",
    "                                           Logistic Regression         KNN                   Decision Tree\n",
    "\n",
    "\n",
    "model acuuracy score with out PCA                  0.813953            0.751937                  0.728682\n",
    "\n",
    "model accuracy with RandomizedSearchCV             0.829457            0.767441                  0.806201\n",
    "\n",
    "model accuracy with PCA (n=7)                      0.813953            0.748768                  0.704433\n",
    "\n",
    "model accuracy with PCA (n=6)                      0.813953            0.733990                  0.689655\n",
    "\n",
    "\n",
    "\n",
    "AUC score without PCA                              0.84                0.77                      0.66\n",
    "\n",
    "AUC score with RandomizedSeachCV                   0.85                0.85                      0.82\n",
    "\n",
    "AUC score with PCA (n=7)                           0.85                0.77                      0.66\n",
    "\n",
    "#################################################################\n",
    "\n",
    "#           Conclusion with Analysis with points:\n",
    "\n",
    "################################################################\n",
    "\n",
    "PCA analysis(n=7):\n",
    "\n",
    "1) For Logistic Regression, model accuracy is same for both i-e with PCA and without PCA and the value is 0.813953.\n",
    "2) For KNN and Decision Tree, model accuracy has not improved with PCA\n",
    "\n",
    "PCA analysis(n=6):\n",
    "\n",
    "1) For Logistic Regression, model accuracy is same for both with PCA and without PCA and the value is 0.813953.\n",
    "2) For KNN and Decision Tree, model accuracy has not improved with PCA\n",
    "\n",
    "Model seleciton:\n",
    "\n",
    "1) AUC score is highest both for Logistic Regression model with PCA (n=7) and KNN with Randomiozed search.Both has a value 0f 0.85 but model accuracy is  more for Logistic Regression than KNN. So we have to choose Logistic Regression with PCA (n=7). \n",
    "\n",
    "2) With PCA (n=7) is chosen as we are removoing one feature (originally 8 without PCA) , so the speed of execution will also be more.\n",
    "Finally we need to check if we can perform Randomized search CV for PCA(n=7) to find the maximum model accuray that we can get.\n",
    "Below code perfoms RSCV(Randomized Search CV) for PCA(n=7) for Logistic Regression.\n",
    "\n"
   ]
  },
  {
   "cell_type": "code",
   "execution_count": 68,
   "metadata": {},
   "outputs": [
    {
     "name": "stdout",
     "output_type": "stream",
     "text": [
      "Fitting 5 folds for each of 6 candidates, totalling 30 fits\n"
     ]
    },
    {
     "name": "stderr",
     "output_type": "stream",
     "text": [
      "[Parallel(n_jobs=-1)]: Using backend LokyBackend with 8 concurrent workers.\n"
     ]
    },
    {
     "name": "stdout",
     "output_type": "stream",
     "text": [
      "Best Estimator:::: LogisticRegression(C=0.1, solver='saga')\n",
      "Best score:::: 0.7688073394495414\n",
      "Best Params:::: {'solver': 'saga', 'penalty': 'l2', 'C': 0.1}\n"
     ]
    },
    {
     "name": "stderr",
     "output_type": "stream",
     "text": [
      "[Parallel(n_jobs=-1)]: Done  30 out of  30 | elapsed:    2.3s finished\n"
     ]
    }
   ],
   "source": [
    "##################################################################################################\n",
    "\n",
    "# The following code splits the principal data and performs the Randomized Search CV for Logistic Regression with PCA (n=7)\n",
    "# We are using same 'randomizedsearch' object that we used previously for Logistic Regression above\n",
    "\n",
    "##################################################################################################\n",
    "\n",
    "x_train,x_test,y_train,y_test = train_test_split(principal_x,target,test_size = 0.19, random_state= 355)\n",
    "\n",
    "best_model_random = randomizedsearch.fit(x_train,y_train)\n",
    "print('Best Estimator::::',best_model_random.best_estimator_)\n",
    "print('Best score::::', best_model_random.best_score_)\n",
    "print('Best Params::::',best_model_random.best_params_)"
   ]
  },
  {
   "cell_type": "code",
   "execution_count": null,
   "metadata": {},
   "outputs": [],
   "source": [
    "#################################################################\n",
    "\n",
    "############  Final Conclusion with Analysis    #################\n",
    "\n",
    "#################################################################\n",
    "\n",
    "\n",
    "We have to choose Logistic Regression with (PCA=7) and with Randomized Search CV because we have highest AUC score of 0.85 and better model accuracy score of 0.821705\n"
   ]
  },
  {
   "cell_type": "code",
   "execution_count": 70,
   "metadata": {},
   "outputs": [],
   "source": [
    "##################################################################################################\n",
    "\n",
    "#                                          EXTRA ANALYSIS\n",
    "\n",
    "##################################################################################################\n",
    "\n",
    "# I have applied Randomized Search CV for both KNN and Decision Tree with PCA(n=7) but the model accuracy scores after RSCV applied, are not better than Logistic Regresion with PCA|(n=7). Please find the code below.\n"
   ]
  },
  {
   "cell_type": "code",
   "execution_count": 72,
   "metadata": {},
   "outputs": [
    {
     "name": "stdout",
     "output_type": "stream",
     "text": [
      "Best Estimator:::: KNeighborsClassifier(algorithm='ball_tree', leaf_size=18, n_neighbors=14)\n",
      "Best score:::: 0.7581349206349206\n",
      "Best Params:::: {'n_neighbors': 14, 'leaf_size': 18, 'algorithm': 'ball_tree'}\n"
     ]
    }
   ],
   "source": [
    "##################################################################################################\n",
    "\n",
    "# The following code splits the principal data and performs the Randomized Search CV for KNN with PCA (n=7)\n",
    "# We are using same 'randomizedsearch_2' object that we used previously for KNN above\n",
    "\n",
    "##################################################################################################\n",
    "\n",
    "x_train,x_test,y_train,y_test = train_test_split(principal_x,target,test_size = 0.19, random_state= 355)\n",
    "\n",
    "best_model_random = randomizedsearch_2.fit(x_train,y_train)\n",
    "print('Best Estimator::::',best_model_random.best_estimator_)\n",
    "print('Best score::::', best_model_random.best_score_)\n",
    "print('Best Params::::',best_model_random.best_params_)"
   ]
  },
  {
   "cell_type": "code",
   "execution_count": 73,
   "metadata": {},
   "outputs": [
    {
     "name": "stdout",
     "output_type": "stream",
     "text": [
      "Acuuracy for KNN with PCA after RSCV:::: 0.7829457364341085\n"
     ]
    }
   ],
   "source": [
    "##################################################################################################\n",
    "\n",
    "# The following code finds the accuracy for Randomized Search CV for KNN with PCA (n=7)\n",
    "\n",
    "##################################################################################################\n",
    "\n",
    "knn=KNeighborsClassifier(algorithm='ball_tree', leaf_size=18, n_neighbors=14)\n",
    "knn.fit(x_train,y_train)\n",
    "print('Acuuracy for KNN with PCA after RSCV::::',knn.score(x_test,y_test))"
   ]
  },
  {
   "cell_type": "code",
   "execution_count": 74,
   "metadata": {},
   "outputs": [
    {
     "name": "stdout",
     "output_type": "stream",
     "text": [
      "Best Estimator :::: DecisionTreeClassifier(criterion='entropy', max_depth=23, min_samples_leaf=8,\n",
      "                       min_samples_split=3, splitter='random')\n",
      "Best score:::: 0.7523232323232324\n",
      "Best Params:::: {'splitter': 'random', 'min_samples_split': 3, 'min_samples_leaf': 8, 'max_depth': 23, 'criterion': 'entropy'}\n",
      "-----------------------------------------------------------------------------\n"
     ]
    }
   ],
   "source": [
    "##################################################################################################\n",
    "\n",
    "# The following code splits the principal data and performs the Randomized Search CV for Decision Tree with PCA (n=7)\n",
    "# We are using same 'random_search_3' object that we used previously for Decision Tree above\n",
    "\n",
    "##################################################################################################\n",
    "\n",
    "x_train,x_test,y_train,y_test = train_test_split(principal_x,target,test_size = 0.19, random_state= 355)\n",
    "\n",
    "random_search_3.fit(x_train,y_train)\n",
    "print('Best Estimator ::::',random_search_3.best_estimator_)\n",
    "print('Best score::::', random_search_3.best_score_)\n",
    "print('Best Params::::',random_search_3.best_params_)\n",
    "\n",
    "print('-----------------------------------------------------------------------------')\n"
   ]
  },
  {
   "cell_type": "code",
   "execution_count": 75,
   "metadata": {},
   "outputs": [
    {
     "name": "stdout",
     "output_type": "stream",
     "text": [
      "Acuuracy for Decision Tree with PCA after RSCV:::: 0.7131782945736435\n"
     ]
    }
   ],
   "source": [
    "##################################################################################################\n",
    "\n",
    "# The following code finds the accuracy for Randomized Search CV for Decision Tree with PCA (n=7)\n",
    "\n",
    "##################################################################################################\n",
    "\n",
    "model_tree= DecisionTreeClassifier(criterion='gini', max_depth=5, min_samples_leaf=9,min_samples_split=5, splitter='best')\n",
    "model_tree.fit(x_train,y_train)\n",
    "print('Acuuracy for Decision Tree with PCA after RSCV::::',model_tree.score(x_test,y_test))"
   ]
  },
  {
   "cell_type": "code",
   "execution_count": null,
   "metadata": {},
   "outputs": [],
   "source": [
    "# NOTE:: Decision Tree Hyper Parameter tuning is giving different results that is different combinations when executed again and again."
   ]
  }
 ],
 "metadata": {
  "kernelspec": {
   "display_name": "Python 3",
   "language": "python",
   "name": "python3"
  },
  "language_info": {
   "codemirror_mode": {
    "name": "ipython",
    "version": 3
   },
   "file_extension": ".py",
   "mimetype": "text/x-python",
   "name": "python",
   "nbconvert_exporter": "python",
   "pygments_lexer": "ipython3",
   "version": "3.8.3"
  }
 },
 "nbformat": 4,
 "nbformat_minor": 4
}
